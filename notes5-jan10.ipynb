{
 "cells": [
  {
   "cell_type": "markdown",
   "metadata": {},
   "source": [
    "1. `SETS` -> like a set but removes duplicates\n",
    "    - add\n",
    "    - remove -> key error if x not in set\n",
    "    - discard -> like rmeove but does not raise error \n",
    "    - pop -> remove random num\n",
    "    - clear\n",
    "    - len\n",
    "    - x in s / x not in s\n",
    "\n",
    "- Coding Problems\n",
    "1. list size n filled with m random elements w/o duplicates \n",
    "2. get_row(x, i)"
   ]
  },
  {
   "cell_type": "code",
   "execution_count": 19,
   "metadata": {},
   "outputs": [
    {
     "name": "stdout",
     "output_type": "stream",
     "text": [
      "[6, 3, 2, 10, 8]\n"
     ]
    }
   ],
   "source": [
    "import random \n",
    "# m > n \n",
    "n = 5\n",
    "m = 10\n",
    "\n",
    "\n",
    "x = []\n",
    "\n",
    "for i in range(n):\n",
    "    randomNum = random.randint(1, m)\n",
    "    if randomNum in x:\n",
    "        while randomNum in x:\n",
    "            randomNum = random.randint(1, m)\n",
    "\n",
    "    x.append(randomNum)\n",
    "\n",
    "print(x)"
   ]
  },
  {
   "cell_type": "code",
   "execution_count": 31,
   "metadata": {},
   "outputs": [
    {
     "name": "stdout",
     "output_type": "stream",
     "text": [
      "[[], [], []]\n"
     ]
    }
   ],
   "source": [
    "from random import randint\n",
    "\n",
    "n = 3  # Example value for n\n",
    "m = 3  # Example value for m\n",
    "k = 10  # Example value for k\n",
    "\n",
    "x = []\n",
    "s = set()\n",
    "for i in range(n):\n",
    "    x.append([])            # creates nested arrays\n",
    "    for j in range(m):      # populates nested arrays to be size j\n",
    "        r = randint(1, k)   # generate random number that is not in the set\n",
    "        while r in s:\n",
    "            r = randint(1, k)\n",
    "        x[i].append(r)      # append to x[i], which is the nested \n",
    "        s.add(r)            # register that this number is used\n",
    "\n",
    "print(x)\n"
   ]
  },
  {
   "cell_type": "code",
   "execution_count": 46,
   "metadata": {},
   "outputs": [
    {
     "name": "stdout",
     "output_type": "stream",
     "text": [
      "[5, 4, 3, 2, 1]\n",
      "[5, 1, 10, 6]\n",
      "digonal sum:  14\n",
      "4\n",
      "3\n",
      "7\n",
      "6\n",
      "reverse digonal sum:  10\n"
     ]
    }
   ],
   "source": [
    "def get_row(x, i):\n",
    "    return x[i]\n",
    "\n",
    "def get_column(x, i):\n",
    "    arr = []\n",
    "\n",
    "    for list in x:\n",
    "        arr.append(list[i])\n",
    "    return arr\n",
    "\n",
    "def get_diagonal_sum(x):\n",
    "    i = 0\n",
    "    sum = 0\n",
    "\n",
    "    for list in x:\n",
    "        sum += list[i]\n",
    "        i += 1\n",
    "    return sum\n",
    "\n",
    "def get_reverse_diagonal_sum(x):\n",
    "    sum = 0\n",
    "    for i in range(len(x) - 1, -1, -1):\n",
    "        print(x[(len(x) - 1) - i][i])\n",
    "        sum += x[i-i][i]\n",
    "    return sum\n",
    "\n",
    "\n",
    "arr_2d = [\n",
    "    [1, 2, 3, 4, 5],\n",
    "    [5, 4, 3, 2, 1],\n",
    "    [6, 7, 8, 9, 10],\n",
    "    [10, 9, 8, 7, 6]\n",
    "]\n",
    "\n",
    "\n",
    "square_2d = [\n",
    "    [1, 2, 3, 4],\n",
    "    [5, 4, 3, 5],\n",
    "    [6, 7, 8, 6],\n",
    "    [6, 7, 8, 1],\n",
    "]\n",
    "\n",
    "print(get_row(arr_2d, 1))\n",
    "print(get_column(arr_2d, 4))\n",
    "print(\"digonal sum: \", get_diagonal_sum(square_2d))\n",
    "print(\"reverse digonal sum: \", get_reverse_diagonal_sum(square_2d))\n",
    "\n"
   ]
  },
  {
   "cell_type": "code",
   "execution_count": 50,
   "metadata": {},
   "outputs": [
    {
     "name": "stdout",
     "output_type": "stream",
     "text": [
      "[5, 4, 7777, 2, 1]\n",
      "[[1, 2, 3, 4, 5], [5, 4, 7777, 2, 1], [6, 7, 8, 9, 10], [10, 9, 8, 7, 6]]\n"
     ]
    }
   ],
   "source": [
    "def get_row(x, i):\n",
    "    a = x[i]\n",
    "    return a\n",
    "\n",
    "arr_2d = [\n",
    "    [1, 2, 3, 4, 5],\n",
    "    [5, 4, 3, 2, 1],\n",
    "    [6, 7, 8, 9, 10],\n",
    "    [10, 9, 8, 7, 6]\n",
    "]\n",
    "\n",
    "lol = get_row(arr_2d, 1)\n",
    "lol[2] = 7777\n",
    "\n",
    "print(lol)\n",
    "print(arr_2d)"
   ]
  },
  {
   "cell_type": "code",
   "execution_count": 52,
   "metadata": {},
   "outputs": [
    {
     "name": "stdout",
     "output_type": "stream",
     "text": [
      "[5, 4, 7777, 2, 1]\n",
      "[[1, 2, 3, 4, 5], [5, 4, 3, 2, 1], [6, 7, 8, 9, 10], [10, 9, 8, 7, 6]]\n"
     ]
    }
   ],
   "source": [
    "def get_row(x, i):\n",
    "    a = []\n",
    "    a.extend(x[i])\n",
    "    return a\n",
    "\n",
    "arr_2d = [\n",
    "    [1, 2, 3, 4, 5],\n",
    "    [5, 4, 3, 2, 1],\n",
    "    [6, 7, 8, 9, 10],\n",
    "    [10, 9, 8, 7, 6]\n",
    "]\n",
    "\n",
    "lol = get_row(arr_2d, 1)\n",
    "lol[2] = 7777\n",
    "\n",
    "print(lol)\n",
    "print(arr_2d)"
   ]
  }
 ],
 "metadata": {
  "kernelspec": {
   "display_name": "Python 3",
   "language": "python",
   "name": "python3"
  },
  "language_info": {
   "codemirror_mode": {
    "name": "ipython",
    "version": 3
   },
   "file_extension": ".py",
   "mimetype": "text/x-python",
   "name": "python",
   "nbconvert_exporter": "python",
   "pygments_lexer": "ipython3",
   "version": "3.12.1"
  }
 },
 "nbformat": 4,
 "nbformat_minor": 2
}
